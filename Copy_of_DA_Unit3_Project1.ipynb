{
  "nbformat": 4,
  "nbformat_minor": 0,
  "metadata": {
    "colab": {
      "name": "Copy of DA_Unit3_Project1.ipynb",
      "provenance": [],
      "collapsed_sections": [],
      "include_colab_link": true
    },
    "kernelspec": {
      "name": "python3",
      "display_name": "Python 3"
    }
  },
  "cells": [
    {
      "cell_type": "markdown",
      "metadata": {
        "id": "view-in-github",
        "colab_type": "text"
      },
      "source": [
        "<a href=\"https://colab.research.google.com/github/mgmboyd/Google-Colab/blob/master/Copy_of_DA_Unit3_Project1.ipynb\" target=\"_parent\"><img src=\"https://colab.research.google.com/assets/colab-badge.svg\" alt=\"Open In Colab\"/></a>"
      ]
    },
    {
      "cell_type": "code",
      "metadata": {
        "id": "TXjxTBmmflVD",
        "colab_type": "code",
        "colab": {}
      },
      "source": [
        ""
      ],
      "execution_count": null,
      "outputs": []
    },
    {
      "cell_type": "markdown",
      "metadata": {
        "id": "1o3wM0dZfv5g",
        "colab_type": "text"
      },
      "source": [
        "# Project 1 COVID 19 Data Analysis"
      ]
    },
    {
      "cell_type": "markdown",
      "metadata": {
        "id": "nGuhn0JJf_E-",
        "colab_type": "text"
      },
      "source": [
        "# Data Background\n",
        "\n",
        "* datasource link: https://github.com/nytimes/covid-19-data\n",
        "\n",
        "* datafile link: https://raw.githubusercontent.com/nytimes/covid-19-data/master/us-states.csv"
      ]
    },
    {
      "cell_type": "markdown",
      "metadata": {
        "id": "j0OlEbDygsF5",
        "colab_type": "text"
      },
      "source": [
        "# Research Questions"
      ]
    },
    {
      "cell_type": "markdown",
      "metadata": {
        "id": "h7Rhsh8Qgyjc",
        "colab_type": "text"
      },
      "source": [
        "* Research Question - 1  (insight into raw data, how \n",
        "many records/ columns?)\n",
        "\n",
        "* Research Question - 2  (Subsetting data by state)\n",
        "\n",
        "* Research Question - 3  (created new columns - new cases, new deaths, percent change)\n",
        "\n",
        "* Research Question - 4  (visuals/ plots/ graphs/ figures) - Used pandas functions to pivot the dataframe to get the month-wise case count for NY\n",
        "\n",
        "* Research Question - 5 (I wanted to explore plotly library in order to make interactive plots/ graphs)"
      ]
    },
    {
      "cell_type": "markdown",
      "metadata": {
        "id": "0Mjpp5gRgUZp",
        "colab_type": "text"
      },
      "source": [
        "# Data Wrangling"
      ]
    },
    {
      "cell_type": "markdown",
      "metadata": {
        "id": "e29Ua5FxgeAN",
        "colab_type": "text"
      },
      "source": [
        "# EDA (Exploratoty Data Analysis)"
      ]
    },
    {
      "cell_type": "markdown",
      "metadata": {
        "id": "V_JSsfgHi7_K",
        "colab_type": "text"
      },
      "source": [
        "# Conclusion"
      ]
    },
    {
      "cell_type": "markdown",
      "metadata": {
        "id": "-ulEbvDLjDMy",
        "colab_type": "text"
      },
      "source": [
        "# References:\n",
        "\n",
        "* https://github.com/nytimes/covid-19-data\n",
        "* https://pandas.pydata.org/ \n",
        "* https://plotly.com/python/range-slider/\n",
        "* https://plotly.com/python/\n",
        "* https://seaborn.pydata.org/\n",
        "* https://matplotlib.org/"
      ]
    }
  ]
}